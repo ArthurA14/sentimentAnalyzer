{
  "cells": [
    {
      "cell_type": "code",
      "source": [
        "from google.colab import drive\n",
        "drive.mount('/content/drive')"
      ],
      "metadata": {
        "colab": {
          "base_uri": "https://localhost:8080/"
        },
        "id": "hfYDjXb5_LMl",
        "outputId": "cecc6689-7157-41df-d697-a8f758da1e50"
      },
      "id": "hfYDjXb5_LMl",
      "execution_count": 1,
      "outputs": [
        {
          "output_type": "stream",
          "name": "stdout",
          "text": [
            "Mounted at /content/drive\n"
          ]
        }
      ]
    },
    {
      "cell_type": "code",
      "execution_count": 2,
      "id": "8a074551",
      "metadata": {
        "colab": {
          "base_uri": "https://localhost:8080/",
          "height": 142
        },
        "id": "8a074551",
        "outputId": "921ec24c-96af-4c08-e191-68234c70e5d5"
      },
      "outputs": [
        {
          "output_type": "execute_result",
          "data": {
            "text/plain": [
              "                                                            film-url  \\\n",
              "0  http://www.allocine.fr/film/fichefilm-25385/critiques/spectateurs   \n",
              "\n",
              "                                                                                                                                                                                                review  \\\n",
              "0  Magnifique épopée, une belle histoire, touchante avec des acteurs qui interprètent très bien leur rôles (Mel Gibson, Heath Ledger, Jason Isaacs...), le genre de film qui se savoure en famille! :)   \n",
              "\n",
              "   polarity  \n",
              "0         1  "
            ],
            "text/html": [
              "\n",
              "  <div id=\"df-2056b32e-d798-4284-a18a-da62789ef881\">\n",
              "    <div class=\"colab-df-container\">\n",
              "      <div>\n",
              "<style scoped>\n",
              "    .dataframe tbody tr th:only-of-type {\n",
              "        vertical-align: middle;\n",
              "    }\n",
              "\n",
              "    .dataframe tbody tr th {\n",
              "        vertical-align: top;\n",
              "    }\n",
              "\n",
              "    .dataframe thead th {\n",
              "        text-align: right;\n",
              "    }\n",
              "</style>\n",
              "<table border=\"1\" class=\"dataframe\">\n",
              "  <thead>\n",
              "    <tr style=\"text-align: right;\">\n",
              "      <th></th>\n",
              "      <th>film-url</th>\n",
              "      <th>review</th>\n",
              "      <th>polarity</th>\n",
              "    </tr>\n",
              "  </thead>\n",
              "  <tbody>\n",
              "    <tr>\n",
              "      <th>0</th>\n",
              "      <td>http://www.allocine.fr/film/fichefilm-25385/critiques/spectateurs</td>\n",
              "      <td>Magnifique épopée, une belle histoire, touchante avec des acteurs qui interprètent très bien leur rôles (Mel Gibson, Heath Ledger, Jason Isaacs...), le genre de film qui se savoure en famille! :)</td>\n",
              "      <td>1</td>\n",
              "    </tr>\n",
              "  </tbody>\n",
              "</table>\n",
              "</div>\n",
              "      <button class=\"colab-df-convert\" onclick=\"convertToInteractive('df-2056b32e-d798-4284-a18a-da62789ef881')\"\n",
              "              title=\"Convert this dataframe to an interactive table.\"\n",
              "              style=\"display:none;\">\n",
              "        \n",
              "  <svg xmlns=\"http://www.w3.org/2000/svg\" height=\"24px\"viewBox=\"0 0 24 24\"\n",
              "       width=\"24px\">\n",
              "    <path d=\"M0 0h24v24H0V0z\" fill=\"none\"/>\n",
              "    <path d=\"M18.56 5.44l.94 2.06.94-2.06 2.06-.94-2.06-.94-.94-2.06-.94 2.06-2.06.94zm-11 1L8.5 8.5l.94-2.06 2.06-.94-2.06-.94L8.5 2.5l-.94 2.06-2.06.94zm10 10l.94 2.06.94-2.06 2.06-.94-2.06-.94-.94-2.06-.94 2.06-2.06.94z\"/><path d=\"M17.41 7.96l-1.37-1.37c-.4-.4-.92-.59-1.43-.59-.52 0-1.04.2-1.43.59L10.3 9.45l-7.72 7.72c-.78.78-.78 2.05 0 2.83L4 21.41c.39.39.9.59 1.41.59.51 0 1.02-.2 1.41-.59l7.78-7.78 2.81-2.81c.8-.78.8-2.07 0-2.86zM5.41 20L4 18.59l7.72-7.72 1.47 1.35L5.41 20z\"/>\n",
              "  </svg>\n",
              "      </button>\n",
              "      \n",
              "  <style>\n",
              "    .colab-df-container {\n",
              "      display:flex;\n",
              "      flex-wrap:wrap;\n",
              "      gap: 12px;\n",
              "    }\n",
              "\n",
              "    .colab-df-convert {\n",
              "      background-color: #E8F0FE;\n",
              "      border: none;\n",
              "      border-radius: 50%;\n",
              "      cursor: pointer;\n",
              "      display: none;\n",
              "      fill: #1967D2;\n",
              "      height: 32px;\n",
              "      padding: 0 0 0 0;\n",
              "      width: 32px;\n",
              "    }\n",
              "\n",
              "    .colab-df-convert:hover {\n",
              "      background-color: #E2EBFA;\n",
              "      box-shadow: 0px 1px 2px rgba(60, 64, 67, 0.3), 0px 1px 3px 1px rgba(60, 64, 67, 0.15);\n",
              "      fill: #174EA6;\n",
              "    }\n",
              "\n",
              "    [theme=dark] .colab-df-convert {\n",
              "      background-color: #3B4455;\n",
              "      fill: #D2E3FC;\n",
              "    }\n",
              "\n",
              "    [theme=dark] .colab-df-convert:hover {\n",
              "      background-color: #434B5C;\n",
              "      box-shadow: 0px 1px 3px 1px rgba(0, 0, 0, 0.15);\n",
              "      filter: drop-shadow(0px 1px 2px rgba(0, 0, 0, 0.3));\n",
              "      fill: #FFFFFF;\n",
              "    }\n",
              "  </style>\n",
              "\n",
              "      <script>\n",
              "        const buttonEl =\n",
              "          document.querySelector('#df-2056b32e-d798-4284-a18a-da62789ef881 button.colab-df-convert');\n",
              "        buttonEl.style.display =\n",
              "          google.colab.kernel.accessAllowed ? 'block' : 'none';\n",
              "\n",
              "        async function convertToInteractive(key) {\n",
              "          const element = document.querySelector('#df-2056b32e-d798-4284-a18a-da62789ef881');\n",
              "          const dataTable =\n",
              "            await google.colab.kernel.invokeFunction('convertToInteractive',\n",
              "                                                     [key], {});\n",
              "          if (!dataTable) return;\n",
              "\n",
              "          const docLinkHtml = 'Like what you see? Visit the ' +\n",
              "            '<a target=\"_blank\" href=https://colab.research.google.com/notebooks/data_table.ipynb>data table notebook</a>'\n",
              "            + ' to learn more about interactive tables.';\n",
              "          element.innerHTML = '';\n",
              "          dataTable['output_type'] = 'display_data';\n",
              "          await google.colab.output.renderOutput(dataTable, element);\n",
              "          const docLink = document.createElement('div');\n",
              "          docLink.innerHTML = docLinkHtml;\n",
              "          element.appendChild(docLink);\n",
              "        }\n",
              "      </script>\n",
              "    </div>\n",
              "  </div>\n",
              "  "
            ]
          },
          "metadata": {},
          "execution_count": 2
        }
      ],
      "source": [
        "import os\n",
        "import pandas as pd\n",
        "import numpy as np\n",
        "pd.set_option('display.max_colwidth', None) \n",
        "\n",
        "\n",
        "df = pd.read_pickle('/content/drive/MyDrive/Projets/allocine_dataset.pickle')\n",
        "df_train = df['train_set']\n",
        "df_val = df['val_set']\n",
        "df_test = df['test_set']\n",
        "df_test.head(1)"
      ]
    },
    {
      "cell_type": "markdown",
      "id": "32881b5b",
      "metadata": {
        "id": "32881b5b"
      },
      "source": [
        "## Recurrent neural network\n",
        "\n",
        "Grâce à leur mémoire interne, les RNN peuvent se souvenir d'éléments importants concernant les données qu'ils ont reçues, ce qui leur permet d'être très précis dans la prédiction de ce qui va suivre. C'est pourquoi ils sont l'algorithme préféré pour les données séquentielles telles que les séries temporelles, la parole, le texte, les données financières, l'audio, la vidéo, la météo et bien plus encore.\n",
        "\n",
        "En pratique, un LSTM est souvent utilisé, par opposition à un RNN standard, car il est plus efficace en termes de calcul. En fait, le LSTM a été introduit pour résoudre un problème dont souffrent les RNN standard, à savoir le problème du vanishing gradient.\n",
        "\n",
        "Le problème principal est qu'il est trop difficile pour les RNN d'apprendre à préserver l'information sur de nombreux \"pas temporels\". Dans un RNN classique, l'état caché est constamment réécrit.\n",
        "\n",
        "Ainsi, les LSTM et les GRU utilisent une cellule mémoire pour stocker la valeur d'activation des mots précédents dans les longues séquences. Le concept de portes entre maintenant en jeu. Les portes sont utilisées pour contrôler le flux d'informations dans le réseau. Les portes sont capables d'apprendre quelles entrées de la séquence sont importantes et de stocker leurs informations dans l'unité de mémoire. Elles peuvent transmettre les informations des longues séquences et les utiliser pour faire des prédictions.\n",
        "\n",
        "Ici, on ne va donc pas implémenter une RNN standard mais un GRU puis un LSTM.\n",
        "\n",
        "### Preprocessing\n",
        "\n",
        "Le preprocessing est similaire à celui réalisé pour les word embbedings."
      ]
    },
    {
      "cell_type": "code",
      "execution_count": 3,
      "id": "d68b4da9",
      "metadata": {
        "id": "d68b4da9"
      },
      "outputs": [],
      "source": [
        "from gensim.utils import simple_preprocess\n",
        "\n",
        "# Tokenize the text column to get the new column 'tokenized_text'\n",
        "df_train['tk_review'] = df_train['review'].apply(lambda x : simple_preprocess(x)) \n",
        "df_val['tk_review'] = df_val['review'].apply(lambda x : simple_preprocess(x)) \n",
        "df_test['tk_review'] = df_test['review'].apply(lambda x : simple_preprocess(x)) "
      ]
    },
    {
      "cell_type": "markdown",
      "id": "0fd00f8f",
      "metadata": {
        "id": "0fd00f8f"
      },
      "source": [
        "Maintenant que le texte est nettoyé, nous pouvons procéder à l'encodage de celui-ci. On entraîne le tokenizer sur le train set puis on l'applique sur tous les jeux de données.\n",
        "\n"
      ]
    },
    {
      "cell_type": "code",
      "execution_count": 4,
      "id": "323a481f",
      "metadata": {
        "colab": {
          "base_uri": "https://localhost:8080/"
        },
        "id": "323a481f",
        "outputId": "441997c8-bb60-4c7b-f1f9-03a36dd16e68"
      },
      "outputs": [
        {
          "output_type": "stream",
          "name": "stdout",
          "text": [
            "Found 186308 unique tokens.\n"
          ]
        }
      ],
      "source": [
        "import tensorflow as tf\n",
        "\n",
        "# tweak this params to get better results\n",
        "MAX_NB_WORDS = 50000\n",
        "\n",
        "tokenizer = tf.keras.preprocessing.text.Tokenizer(\n",
        "    num_words=MAX_NB_WORDS,\n",
        "    oov_token=\"<unk>\",\n",
        ")\n",
        "tokenizer.fit_on_texts(df_train['review'])\n",
        "\n",
        "word_index = tokenizer.word_index\n",
        "print(\"Found {} unique tokens.\".format(len(word_index)))"
      ]
    },
    {
      "cell_type": "code",
      "execution_count": 5,
      "id": "fed3ff25",
      "metadata": {
        "id": "fed3ff25"
      },
      "outputs": [],
      "source": [
        "train_reviews_tokenized = tokenizer.texts_to_sequences(df_train['review'])\n",
        "val_reviews_tokenized = tokenizer.texts_to_sequences(df_val['review'])\n",
        "test_reviews_tokenized = tokenizer.texts_to_sequences(df_test['review'])"
      ]
    },
    {
      "cell_type": "markdown",
      "id": "d95982a2",
      "metadata": {
        "id": "d95982a2"
      },
      "source": [
        "On réalise ensuite le padding des reviews selon un certain threshold (se basant sur de la distribution des longueurs moyennes des reviews)"
      ]
    },
    {
      "cell_type": "code",
      "execution_count": 6,
      "id": "c1f7500d",
      "metadata": {
        "id": "c1f7500d"
      },
      "outputs": [],
      "source": [
        "from tensorflow.keras.preprocessing.sequence import pad_sequences\n",
        "\n",
        "MAX_LEN = 350\n",
        "\n",
        "X_train = pad_sequences(train_reviews_tokenized, maxlen=MAX_LEN, padding='post')\n",
        "X_val = pad_sequences(val_reviews_tokenized, maxlen=MAX_LEN, padding='post')\n",
        "X_test = pad_sequences(test_reviews_tokenized, maxlen=MAX_LEN, padding='post')\n",
        "\n",
        "y_train = np.array(df_train['polarity'])\n",
        "y_val = np.array(df_val['polarity'])\n",
        "y_test = np.array(df_test['polarity'])"
      ]
    },
    {
      "cell_type": "markdown",
      "id": "3abae614",
      "metadata": {
        "id": "3abae614"
      },
      "source": [
        "### Modélisation"
      ]
    },
    {
      "cell_type": "code",
      "execution_count": 14,
      "id": "f30a6a39",
      "metadata": {
        "id": "f30a6a39"
      },
      "outputs": [],
      "source": [
        "from tensorflow.keras.models import Sequential\n",
        "from tensorflow.keras.layers import Embedding, GRU, Dense\n",
        "\n",
        "\n",
        "# tweak this params to get better results\n",
        "MAX_NB_WORDS = 50000\n",
        "\n",
        "model = Sequential(name='RNN')\n",
        "\n",
        "# Embedding layer is learning the embedding of words\n",
        "#  before feeding it to the RNN layers\n",
        "model.add(Embedding(MAX_NB_WORDS, 256,\n",
        "                    mask_zero=True, input_shape=[None]))\n",
        "\n",
        "# A RNN layer can also return the entire sequence of outputs for each sample \n",
        "# (one vector per timestep per sample), if you set return_sequences=True\n",
        "model.add(GRU(256, return_sequences=True))\n",
        "model.add(GRU(256))\n",
        "model.add(Dense(1, activation=\"sigmoid\"))\n",
        "\n",
        "model.compile(\n",
        "    loss=\"binary_crossentropy\",\n",
        "    optimizer=\"adam\",\n",
        "    metrics=[\"accuracy\"]\n",
        ")"
      ]
    },
    {
      "cell_type": "code",
      "execution_count": 9,
      "id": "cb4cef06",
      "metadata": {
        "colab": {
          "base_uri": "https://localhost:8080/"
        },
        "id": "cb4cef06",
        "outputId": "f3ebfe8a-7605-4d36-abfb-97fca0446cc8"
      },
      "outputs": [
        {
          "output_type": "stream",
          "name": "stdout",
          "text": [
            "Epoch 1/4\n",
            "2500/2500 [==============================] - ETA: 0s - loss: 0.1819 - accuracy: 0.9292\n",
            "Epoch 1: val_loss improved from inf to 0.15087, saving model to /content/drive/MyDrive/Projets/rnn_weights.hdf5\n",
            "2500/2500 [==============================] - 124s 50ms/step - loss: 0.1819 - accuracy: 0.9292 - val_loss: 0.1509 - val_accuracy: 0.9420\n",
            "Epoch 2/4\n",
            "2499/2500 [============================>.] - ETA: 0s - loss: 0.0959 - accuracy: 0.9650\n",
            "Epoch 2: val_loss did not improve from 0.15087\n",
            "2500/2500 [==============================] - 133s 53ms/step - loss: 0.0959 - accuracy: 0.9650 - val_loss: 0.1534 - val_accuracy: 0.9409\n",
            "Epoch 3/4\n",
            "2500/2500 [==============================] - ETA: 0s - loss: 0.0539 - accuracy: 0.9815\n",
            "Epoch 3: val_loss did not improve from 0.15087\n",
            "2500/2500 [==============================] - 123s 49ms/step - loss: 0.0539 - accuracy: 0.9815 - val_loss: 0.2079 - val_accuracy: 0.9370\n",
            "Epoch 4/4\n",
            "2500/2500 [==============================] - ETA: 0s - loss: 0.0301 - accuracy: 0.9900\n",
            "Epoch 4: val_loss did not improve from 0.15087\n",
            "2500/2500 [==============================] - 121s 48ms/step - loss: 0.0301 - accuracy: 0.9900 - val_loss: 0.2547 - val_accuracy: 0.9337\n"
          ]
        }
      ],
      "source": [
        "callback = tf.keras.callbacks.ModelCheckpoint(\n",
        "    filepath='/content/drive/MyDrive/Projets/rnn_weights.hdf5',\n",
        "    save_best_only=True, verbose=1\n",
        ")\n",
        "\n",
        "history = model.fit(\n",
        "    X_train, y_train,\n",
        "    validation_data=(X_val, y_val),\n",
        "    epochs=4, batch_size=64, \n",
        "    callbacks=[callback], verbose=1\n",
        ")"
      ]
    },
    {
      "cell_type": "code",
      "source": [
        "import matplotlib.pyplot as plt\n",
        "import seaborn as sns\n",
        "sns.set(style=\"whitegrid\", font_scale=1.4)\n",
        "\n",
        "fig, (ax1, ax2) = plt.subplots(1, 2, figsize=(12, 5))\n",
        "\n",
        "ax1.plot(history.history['accuracy'])\n",
        "ax1.plot(history.history['val_accuracy'])\n",
        "ax1.set_title('Model accuracy')\n",
        "ax1.set_ylabel('Accuracy')\n",
        "ax1.set_xlabel('Epoch')\n",
        "ax1.legend(['Train', 'Val'], loc='upper left')\n",
        "\n",
        "ax2.plot(history.history['loss'])\n",
        "ax2.plot(history.history['val_loss'])\n",
        "ax2.set_title('Model loss')\n",
        "ax2.set_ylabel('Loss')\n",
        "ax2.set_xlabel('Epoch')\n",
        "ax2.legend(['Train', 'Val'], loc='upper left')\n",
        "\n",
        "# Finalize the plot\n",
        "sns.despine(bottom=True)\n",
        "plt.tight_layout(h_pad=2)"
      ],
      "metadata": {
        "colab": {
          "base_uri": "https://localhost:8080/",
          "height": 355
        },
        "id": "djna4h7nrdvy",
        "outputId": "6cae0108-56f0-411f-ba76-6de0036e878d"
      },
      "id": "djna4h7nrdvy",
      "execution_count": 10,
      "outputs": [
        {
          "output_type": "display_data",
          "data": {
            "text/plain": [
              "<Figure size 864x360 with 2 Axes>"
            ],
            "image/png": "[encoded data removed]"
          },
          "metadata": {}
        }
      ]
    },
    {
      "cell_type": "markdown",
      "source": [
        "L'accuracy est très bonne dès les premières époques. Cependant, le modèle overfit assez vite par la suite. Ici on bat les modèles précédent (CBOW et fasttext). On pourrait tester des modèles plus avancés encore comme LSTM ou CNN.\n",
        "\n",
        "\n",
        "### RNN bidirectionnels\n",
        "\n",
        "Pour les séquences autres que les séries temporelles (par exemple, les textes), il arrive souvent qu'un modèle RNN soit plus performant s'il traite la séquence non seulement du début à la fin, mais aussi à rebours. Par exemple, pour prédire le prochain mot d'une phrase, il est souvent utile d'avoir le contexte autour du mot, et pas seulement les mots qui le précèdent.\n",
        "\n",
        "Ici les reviews sont plutot courtes, il n'est pas sûr que le caractère bidirectionnels du LSTM soit vraiment utile."
      ],
      "metadata": {
        "id": "lMuB5AMwuMNW"
      },
      "id": "lMuB5AMwuMNW"
    },
    {
      "cell_type": "code",
      "source": [
        "from tensorflow.keras.layers import Bidirectional, LSTM\n",
        "\n",
        "\n",
        "model = Sequential(name='Bi-LSTM')\n",
        "\n",
        "# Embedding layer is learning the embedding of words\n",
        "#  before feeding it to the RNN layers\n",
        "model.add(Embedding(MAX_NB_WORDS, 256,\n",
        "                    mask_zero=True, input_shape=[None]))\n",
        "\n",
        "# A RNN layer can also return the entire sequence of outputs for each sample \n",
        "# (one vector per timestep per sample), if you set return_sequences=True\n",
        "model.add(\n",
        "    Bidirectional(LSTM(256, return_sequences=True), input_shape=(5, 10))\n",
        ")\n",
        "model.add(Bidirectional(LSTM(128)))\n",
        "model.add(Dense(1, activation=\"sigmoid\"))\n",
        "\n",
        "\n",
        "model.compile(\n",
        "    loss=\"binary_crossentropy\",\n",
        "    optimizer=\"adam\",\n",
        "    metrics=[\"accuracy\"]\n",
        ")"
      ],
      "metadata": {
        "id": "HBbBNgfougc7"
      },
      "id": "HBbBNgfougc7",
      "execution_count": 11,
      "outputs": []
    },
    {
      "cell_type": "code",
      "source": [
        "callback = tf.keras.callbacks.ModelCheckpoint(\n",
        "    filepath='/content/drive/MyDrive/Projets/bi-lstm_weights.hdf5',\n",
        "    save_best_only=True, verbose=1\n",
        ")\n",
        "\n",
        "history = model.fit(\n",
        "    X_train, y_train,\n",
        "    validation_data=(X_val, y_val),\n",
        "    epochs=4, batch_size=64, \n",
        "    callbacks=[callback], verbose=1\n",
        ")"
      ],
      "metadata": {
        "colab": {
          "base_uri": "https://localhost:8080/"
        },
        "id": "6i6cxxMcKT1A",
        "outputId": "f2cdf8f8-196b-4d94-e858-94495fff3ac2"
      },
      "id": "6i6cxxMcKT1A",
      "execution_count": 12,
      "outputs": [
        {
          "output_type": "stream",
          "name": "stdout",
          "text": [
            "Epoch 1/4\n",
            "2500/2500 [==============================] - ETA: 0s - loss: 0.2277 - accuracy: 0.9075\n",
            "Epoch 1: val_loss improved from inf to 0.17529, saving model to /content/drive/MyDrive/Projets/bi-lstm_weights.hdf5\n",
            "2500/2500 [==============================] - 255s 98ms/step - loss: 0.2277 - accuracy: 0.9075 - val_loss: 0.1753 - val_accuracy: 0.9330\n",
            "Epoch 2/4\n",
            "2500/2500 [==============================] - ETA: 0s - loss: 0.1149 - accuracy: 0.9579\n",
            "Epoch 2: val_loss improved from 0.17529 to 0.15584, saving model to /content/drive/MyDrive/Projets/bi-lstm_weights.hdf5\n",
            "2500/2500 [==============================] - 241s 96ms/step - loss: 0.1149 - accuracy: 0.9579 - val_loss: 0.1558 - val_accuracy: 0.9414\n",
            "Epoch 3/4\n",
            "2500/2500 [==============================] - ETA: 0s - loss: 0.0689 - accuracy: 0.9765\n",
            "Epoch 3: val_loss did not improve from 0.15584\n",
            "2500/2500 [==============================] - 242s 97ms/step - loss: 0.0689 - accuracy: 0.9765 - val_loss: 0.1714 - val_accuracy: 0.9387\n",
            "Epoch 4/4\n",
            "2500/2500 [==============================] - ETA: 0s - loss: 0.0405 - accuracy: 0.9863\n",
            "Epoch 4: val_loss did not improve from 0.15584\n",
            "2500/2500 [==============================] - 239s 96ms/step - loss: 0.0405 - accuracy: 0.9863 - val_loss: 0.2053 - val_accuracy: 0.9382\n"
          ]
        }
      ]
    },
    {
      "cell_type": "code",
      "source": [
        "fig, (ax1, ax2) = plt.subplots(1, 2, figsize=(12, 5))\n",
        "\n",
        "ax1.plot(history.history['accuracy'])\n",
        "ax1.plot(history.history['val_accuracy'])\n",
        "ax1.set_title('Model accuracy')\n",
        "ax1.set_ylabel('Accuracy')\n",
        "ax1.set_xlabel('Epoch')\n",
        "ax1.legend(['Train', 'Val'], loc='upper left')\n",
        "\n",
        "ax2.plot(history.history['loss'])\n",
        "ax2.plot(history.history['val_loss'])\n",
        "ax2.set_title('Model loss')\n",
        "ax2.set_ylabel('Loss')\n",
        "ax2.set_xlabel('Epoch')\n",
        "ax2.legend(['Train', 'Val'], loc='upper left')\n",
        "\n",
        "# Finalize the plot\n",
        "sns.despine(bottom=True)\n",
        "plt.tight_layout(h_pad=2)"
      ],
      "metadata": {
        "colab": {
          "base_uri": "https://localhost:8080/",
          "height": 355
        },
        "id": "YSF6fG1IKbNc",
        "outputId": "61a04413-59c2-488d-e6d3-d1e293d93eac"
      },
      "id": "YSF6fG1IKbNc",
      "execution_count": 13,
      "outputs": [
        {
          "output_type": "display_data",
          "data": {
            "text/plain": [
              "<Figure size 864x360 with 2 Axes>"
            ],
            "image/png": "[encoded data removed]"
          },
          "metadata": {}
        }
      ]
    },
    {
      "cell_type": "markdown",
      "source": [
        "Un modèle plus complexe comme ce LSTM bidirectionnel ne semble pas avoir améliorer l'accuracy de notre GRU intial. Cela tient probablement au fait que nos reviews sont des documents de taille limitée et que ceux-ci ne requièrent pas nécessairement de composante bidirectionnelle.\n",
        "\n",
        "A niveau d'accuracy similaire, autant retenir le modèle le plus léger et le moins gourmand en terme de ressources.\n",
        "\n",
        "Voyons donc le temps moyen d'une prédiction avec notre modèle GRU standard."
      ],
      "metadata": {
        "id": "IXBRaVWiNUw-"
      },
      "id": "IXBRaVWiNUw-"
    },
    {
      "cell_type": "code",
      "source": [
        "import time\n",
        "\n",
        "model.load_weights('/content/drive/MyDrive/Projets/rnn_weights.hdf5')\n",
        "times = []\n",
        "\n",
        "for i in range(500):\n",
        "    x = np.array([X_test[i], ])\n",
        "    t0 = time.time()\n",
        "    y_pred = model.predict(x)\n",
        "    t1 = time.time()\n",
        "    times.append(t1 - t0)"
      ],
      "metadata": {
        "id": "5PLLM84xNy0D"
      },
      "id": "5PLLM84xNy0D",
      "execution_count": 20,
      "outputs": []
    },
    {
      "cell_type": "code",
      "source": [
        "times = pd.Series(times*1000)\n",
        "print('Inférence times in ms:')\n",
        "times.describe(percentiles=[.25, .50, .75, 0.95])"
      ],
      "metadata": {
        "colab": {
          "base_uri": "https://localhost:8080/"
        },
        "id": "NYWQ3GPWTSBo",
        "outputId": "8edc7fd4-a53b-4a75-948d-98aca0f7f2cd"
      },
      "id": "NYWQ3GPWTSBo",
      "execution_count": 21,
      "outputs": [
        {
          "output_type": "stream",
          "name": "stdout",
          "text": [
            "Inférence times in ms:\n"
          ]
        },
        {
          "output_type": "execute_result",
          "data": {
            "text/plain": [
              "count    500000.000000\n",
              "mean          0.043329\n",
              "std           0.006226\n",
              "min           0.035179\n",
              "25%           0.039028\n",
              "50%           0.041778\n",
              "75%           0.046024\n",
              "95%           0.053677\n",
              "max           0.096291\n",
              "dtype: float64"
            ]
          },
          "metadata": {},
          "execution_count": 21
        }
      ]
    },
    {
      "cell_type": "code",
      "source": [
        ""
      ],
      "metadata": {
        "id": "iC1FasOBT8Y7"
      },
      "id": "iC1FasOBT8Y7",
      "execution_count": null,
      "outputs": []
    }
  ],
  "metadata": {
    "kernelspec": {
      "display_name": "Python 3 (ipykernel)",
      "language": "python",
      "name": "python3"
    },
    "language_info": {
      "codemirror_mode": {
        "name": "ipython",
        "version": 3
      },
      "file_extension": ".py",
      "mimetype": "text/x-python",
      "name": "python",
      "nbconvert_exporter": "python",
      "pygments_lexer": "ipython3",
      "version": "3.8.10"
    },
    "colab": {
      "name": "sentiment_analisys_RNN.ipynb",
      "provenance": [],
      "collapsed_sections": []
    },
    "accelerator": "GPU"
  },
  "nbformat": 4,
  "nbformat_minor": 5
}